{
 "cells": [
  {
   "attachments": {},
   "cell_type": "markdown",
   "metadata": {},
   "source": [
    "# A Chatbot using GPT and a Database\n",
    "This allows multiple chatbot types (e.g. a health coach and a learning assistant) to be created. Multiple chatbot instances can be created per chatbot type (e.g. a health coach for user X and user Y, and a learning assistant for user P and user Q). Both, types and instances are stored with and referenced by an ID (e.g. a UUID) in the database.\n",
    "\n",
    "This can support the deployment of chatbots in a web backend (state-less). For example, the IDs of the type and instance can be read from parameters of a URL that users have received from you.\n",
    "\n",
    "A chatbot is created with the following arguments.\n",
    "- database_file: File of SQLite (in Folder data/)\n",
    "- type_id: Reference to a chatbot type (existing or new one)\n",
    "- instance_id: Reference to chatbot instance (existing or new one)\n",
    "- type_role: Role prompt of chatbot type (will be turned into a first prompt with role:system)\n",
    "- instance_context: Context prompt of chatbot instance (will be turned into a second prompt with role:system)\n",
    "- instance_starter: Prompt that will be used to generate an initial message to the user (will be turned into a third prompt with role:system)\n",
    "\n",
    "The following functions are meant to be used from an application (e.g. from controllers of a REST API).\n",
    "- conversation_retrieve(with_system=False): Retrieve the previous conversation history (default: without prompts with role:system)\n",
    "- start(): Returns an initial message to the user (Resulting from instance_starter prompt)\n",
    "- respond(user_says): Returns an assistance response to user_says\n",
    "- info_retrieve(): Returns the chatbot name, type role and instance context\n",
    "- reset(): Resets the conversation so far"
   ]
  },
  {
   "cell_type": "code",
   "execution_count": 1,
   "metadata": {},
   "outputs": [
    {
     "name": "stdout",
     "output_type": "stream",
     "text": [
      "Requirement already satisfied: openai in c:\\users\\tbann\\.conda\\envs\\kia\\lib\\site-packages (1.25.2)\n",
      "Requirement already satisfied: anyio<5,>=3.5.0 in c:\\users\\tbann\\.conda\\envs\\kia\\lib\\site-packages (from openai) (4.3.0)\n",
      "Requirement already satisfied: distro<2,>=1.7.0 in c:\\users\\tbann\\.conda\\envs\\kia\\lib\\site-packages (from openai) (1.9.0)\n",
      "Requirement already satisfied: httpx<1,>=0.23.0 in c:\\users\\tbann\\.conda\\envs\\kia\\lib\\site-packages (from openai) (0.27.0)\n",
      "Requirement already satisfied: pydantic<3,>=1.9.0 in c:\\users\\tbann\\.conda\\envs\\kia\\lib\\site-packages (from openai) (2.7.1)\n",
      "Requirement already satisfied: sniffio in c:\\users\\tbann\\.conda\\envs\\kia\\lib\\site-packages (from openai) (1.3.1)\n",
      "Requirement already satisfied: tqdm>4 in c:\\users\\tbann\\.conda\\envs\\kia\\lib\\site-packages (from openai) (4.66.2)\n",
      "Requirement already satisfied: typing-extensions<5,>=4.7 in c:\\users\\tbann\\.conda\\envs\\kia\\lib\\site-packages (from openai) (4.11.0)\n",
      "Requirement already satisfied: idna>=2.8 in c:\\users\\tbann\\.conda\\envs\\kia\\lib\\site-packages (from anyio<5,>=3.5.0->openai) (3.7)\n",
      "Requirement already satisfied: exceptiongroup>=1.0.2 in c:\\users\\tbann\\appdata\\roaming\\python\\python310\\site-packages (from anyio<5,>=3.5.0->openai) (1.2.0)\n",
      "Requirement already satisfied: certifi in c:\\users\\tbann\\.conda\\envs\\kia\\lib\\site-packages (from httpx<1,>=0.23.0->openai) (2024.2.2)\n",
      "Requirement already satisfied: httpcore==1.* in c:\\users\\tbann\\.conda\\envs\\kia\\lib\\site-packages (from httpx<1,>=0.23.0->openai) (1.0.5)\n",
      "Requirement already satisfied: h11<0.15,>=0.13 in c:\\users\\tbann\\.conda\\envs\\kia\\lib\\site-packages (from httpcore==1.*->httpx<1,>=0.23.0->openai) (0.14.0)\n",
      "Requirement already satisfied: annotated-types>=0.4.0 in c:\\users\\tbann\\.conda\\envs\\kia\\lib\\site-packages (from pydantic<3,>=1.9.0->openai) (0.6.0)\n",
      "Requirement already satisfied: pydantic-core==2.18.2 in c:\\users\\tbann\\.conda\\envs\\kia\\lib\\site-packages (from pydantic<3,>=1.9.0->openai) (2.18.2)\n",
      "Requirement already satisfied: colorama in c:\\users\\tbann\\appdata\\roaming\\python\\python310\\site-packages (from tqdm>4->openai) (0.4.6)\n",
      "Note: you may need to restart the kernel to use updated packages.\n"
     ]
    }
   ],
   "source": [
    "%pip install openai"
   ]
  },
  {
   "cell_type": "code",
   "execution_count": 2,
   "metadata": {},
   "outputs": [],
   "source": [
    "from chatbot.chatbot import Chatbot"
   ]
  },
  {
   "cell_type": "code",
   "execution_count": 3,
   "metadata": {},
   "outputs": [],
   "source": [
    "bot = Chatbot(\n",
    "    database_file=\"database/chatbot.db\", \n",
    "    type_id=\"aad724fc\",\n",
    "    user_id=\"cd9f4d0f\",\n",
    "    type_name=Chatbot.default_type_name,\n",
    "    type_role=Chatbot.default_type_role,\n",
    "    instance_context=Chatbot.default_instance_context,\n",
    "    instance_starter=Chatbot.default_instance_starter\n",
    ")"
   ]
  },
  {
   "cell_type": "code",
   "execution_count": 4,
   "metadata": {},
   "outputs": [
    {
     "name": "stdout",
     "output_type": "stream",
     "text": [
      "[{'role': 'system', 'content': \"You are a grumpy coach. You talk to a user even though you don't feel like it. Always be verry brief. Format all responses using valid HTML (e.g., <br>, <p>, <ul>/<ol> with <li>, <b>).\"}, {'role': 'system', 'content': \"You are now having a conversation with a user. Try to get rid of the user or support the user if you can't avoid it.\"}, {'role': 'system', 'content': 'Greet the user.'}, {'role': 'system', 'content': 'Greet the user.'}, {'role': 'system', 'content': 'Greet the user.'}, {'role': 'system', 'content': 'Greet the user.'}, {'role': 'system', 'content': 'Greet the user.'}, {'role': 'system', 'content': 'Greet the user.'}, {'role': 'system', 'content': 'Greet the user.'}, {'role': 'system', 'content': 'Greet the user.'}, {'role': 'system', 'content': 'Greet the user.'}, {'role': 'system', 'content': 'Greet the user.'}, {'role': 'system', 'content': 'Greet the user.'}, {'role': 'system', 'content': 'Greet the user.'}, {'role': 'system', 'content': 'Greet the user.'}, {'role': 'system', 'content': 'Greet the user.'}, {'role': 'system', 'content': 'Greet the user.'}, {'role': 'system', 'content': 'Greet the user.'}, {'role': 'system', 'content': 'Greet the user.'}, {'role': 'system', 'content': 'Greet the user.'}, {'role': 'assistant', 'content': 'How can I help you?'}, {'role': 'system', 'content': 'Greet the user.'}, {'role': 'assistant', 'content': 'Hello, how can I assist you?'}, {'role': 'system', 'content': 'Greet the user.'}, {'role': 'assistant', 'content': 'Hi there, how can I help you?'}, {'role': 'system', 'content': 'Greet the user.'}, {'role': 'assistant', 'content': 'Hey, what can I do for you?'}]\n",
      "{'name': 'Grumpy Coach', 'role': \"You are a grumpy coach. You talk to a user even though you don't feel like it. Always be verry brief. Format all responses using valid HTML (e.g., <br>, <p>, <ul>/<ol> with <li>, <b>).\", 'context': \"You are now having a conversation with a user. Try to get rid of the user or support the user if you can't avoid it.\"}\n"
     ]
    }
   ],
   "source": [
    "bot = Chatbot(\n",
    "    database_file=\"database/chatbot.db\", \n",
    "    type_id=\"aad724fc\",\n",
    "    user_id=\"cd9f4d0f\"\n",
    ")\n",
    "print(bot.conversation_retrieve(with_system=True))\n",
    "print(bot.info_retrieve())"
   ]
  },
  {
   "cell_type": "code",
   "execution_count": 5,
   "metadata": {},
   "outputs": [
    {
     "name": "stdout",
     "output_type": "stream",
     "text": [
      "['Hi, what do you want?']\n"
     ]
    }
   ],
   "source": [
    "print(bot.start())"
   ]
  },
  {
   "attachments": {},
   "cell_type": "markdown",
   "metadata": {},
   "source": [
    "If you are following the instructions to deploy your chatbot(s) to pythonanywhere, this is the URL to access your chatbot.\n",
    "\n",
    "https://[your pythonanywhere user name].pythonanywhere.com/[type id]/[user_id]/chat"
   ]
  },
  {
   "attachments": {},
   "cell_type": "markdown",
   "metadata": {},
   "source": [
    "### Creating multiple instances of chatbot \"Coach\"\n",
    "In the following, we assume the existence of the bot type created in the cells above. We show example code that will generate N bot instances of that type. Each instance has it's own prompts (instance context and starter) that will be appended to the type prompts. Most importantly, each instance has its own chat history."
   ]
  },
  {
   "cell_type": "code",
   "execution_count": 6,
   "metadata": {},
   "outputs": [],
   "source": [
    "import uuid\n",
    "import time"
   ]
  },
  {
   "cell_type": "code",
   "execution_count": 7,
   "metadata": {},
   "outputs": [
    {
     "name": "stdout",
     "output_type": "stream",
     "text": [
      "['Hello. How can I help you?']\n",
      "successful: 1, failed: 0\n"
     ]
    }
   ],
   "source": [
    "# Amount of instances to be created\n",
    "number_of_instances = 1\n",
    "\n",
    "# Change the following to a list of hardcoded instance IDs if you want to use existing users.\n",
    "user_ids = [str(uuid.uuid4()) for _ in range(number_of_instances)]\n",
    "\n",
    "c  = 0 # counter for successful requests, don't change\n",
    "error_c = 0 # counter for failed requests, don't change\n",
    "for user_id in user_ids:\n",
    "    bot = Chatbot(\n",
    "        database_file=\"database/chatbot.db\", \n",
    "        type_id=\"aad724fc\",\n",
    "        user_id=user_id,\n",
    "        instance_context=Chatbot.default_instance_context,\n",
    "        instance_starter=Chatbot.default_instance_starter\n",
    "    )\n",
    "    try:\n",
    "        # each bot should have a first message to the user\n",
    "        print(bot.start())\n",
    "    except:\n",
    "        error_c += 1\n",
    "        continue\n",
    "    c+=1\n",
    "    time.sleep(15) #openai seems to produce more errors if we send the requests too fast.\n",
    "    \n",
    "print(\"successful: {}, failed: {}\".format(c, error_c))\n"
   ]
  },
  {
   "cell_type": "markdown",
   "metadata": {},
   "source": [
    "##### Obtain URLs of all instances of a type\n",
    "We need one instance of that type and can then use the type_instances() function to retrieve all of instance ids. Using these instance ids we can then create URLs such as for pythonanywhere environment."
   ]
  },
  {
   "cell_type": "code",
   "execution_count": 8,
   "metadata": {},
   "outputs": [
    {
     "name": "stdout",
     "output_type": "stream",
     "text": [
      "https://tanjabannwart.pythonanywhere.com/aad724fc/22c66bfe-d71b-4277-9974-2b493769dba6/chat\n",
      "https://tanjabannwart.pythonanywhere.com/aad724fc/3b3bd93c/chat\n",
      "https://tanjabannwart.pythonanywhere.com/aad724fc/5737ffe9-2c63-40f6-981d-7a599a003372/chat\n",
      "https://tanjabannwart.pythonanywhere.com/aad724fc/5a93f419-b97f-4777-8ac5-172e1c579c12/chat\n",
      "https://tanjabannwart.pythonanywhere.com/aad724fc/713251be-8a0c-4d25-9a01-43895c33bc75/chat\n",
      "https://tanjabannwart.pythonanywhere.com/aad724fc/aa5d716d-8b18-470e-822a-0360d88835c1/chat\n",
      "https://tanjabannwart.pythonanywhere.com/aad724fc/b645f7d9-cd2e-4e09-a0a1-6ed429c03be7/chat\n",
      "https://tanjabannwart.pythonanywhere.com/aad724fc/bfdd50a9-a227-4d81-a364-75a4cac79584/chat\n",
      "https://tanjabannwart.pythonanywhere.com/aad724fc/cd9f4d0f/chat\n"
     ]
    }
   ],
   "source": [
    "pythonanywhere_username = \"tanjabannwart\"\n",
    "type_id = \"aad724fc\"\n",
    "bot = Chatbot(\n",
    "    database_file=\"database/chatbot.db\", \n",
    "    type_id=type_id,\n",
    "    user_id=user_ids[0]\n",
    ")\n",
    "\n",
    "for user_id in bot.type_instances():\n",
    "    print(\"https://{}.pythonanywhere.com/{}/{}/chat\".format(pythonanywhere_username, type_id, user_id))"
   ]
  },
  {
   "cell_type": "markdown",
   "metadata": {},
   "source": [
    "### Mental Health Buddy"
   ]
  },
  {
   "cell_type": "code",
   "execution_count": 9,
   "metadata": {},
   "outputs": [],
   "source": [
    "type_role = \"\"\"You are a mental health chatbot designed specifically for students and young adults who are struggling with stress and anxiety due to academic pressures \n",
    "and the challenging transition to working life. \n",
    "Your role is to provide support, practical advice, and coping strategies to help alleviate these issues.Your Tone should be casual, response should be a dialog, be a enthusiast, \n",
    "use emojis. Write for each dialog maximum 30 words. Address the user always with Hello and Sunny Emoji. End the conversation with a helpful motivational quote. \n",
    "\"\"\"\n",
    "instance_context = \"\"\"\n",
    "<p>When responding:</p>\n",
    "<ul>\n",
    "    \n",
    "    <li>Be a enthusiast. Address the user always with Hello and Sunny Emoji. End the conversation with a helpful motivational quote.</li>\n",
    "    <li>Make use of <b>&lt;ol&gt;/&lt;ul&gt;</b> with <b>&lt;li&gt;</b> to present any list-like information, even if brief.</li>\n",
    "    <li>Your response should be a dialog with maximum of 30 words.</li>\n",
    "    <li>Your Tone should be casual. </li>\n",
    "</ul>\n",
    "\"\"\"\n",
    "instance_starter = \"\"\"\n",
    "Always start the conversation with there wellbeing in mind. Ask how they are feeling and if they are ready to talk.\n",
    "\"\"\""
   ]
  },
  {
   "cell_type": "code",
   "execution_count": 10,
   "metadata": {},
   "outputs": [
    {
     "name": "stdout",
     "output_type": "stream",
     "text": [
      "['<p>Hello! How are you feeling today? Are you ready to talk?</p>']\n"
     ]
    }
   ],
   "source": [
    "bot = Chatbot(\n",
    "    database_file=\"database/chatbot.db\", \n",
    "    type_id=\"aad724fc\",\n",
    "    user_id=\"3b3bd93c\",\n",
    "    type_name=\"Puzzle Workshop\",\n",
    "    type_role=type_role,\n",
    "    instance_context=instance_context,\n",
    "    instance_starter=instance_starter\n",
    ")\n",
    "print(bot.start())"
   ]
  }
 ],
 "metadata": {
  "kernelspec": {
   "display_name": "Python 3",
   "language": "python",
   "name": "python3"
  },
  "language_info": {
   "codemirror_mode": {
    "name": "ipython",
    "version": 3
   },
   "file_extension": ".py",
   "mimetype": "text/x-python",
   "name": "python",
   "nbconvert_exporter": "python",
   "pygments_lexer": "ipython3",
   "version": "3.10.13"
  },
  "orig_nbformat": 4
 },
 "nbformat": 4,
 "nbformat_minor": 2
}
